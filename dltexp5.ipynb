{
  "nbformat": 4,
  "nbformat_minor": 0,
  "metadata": {
    "colab": {
      "provenance": [],
      "authorship_tag": "ABX9TyP+1dTEE+sKRBs0+ljFoaW6",
      "include_colab_link": true
    },
    "kernelspec": {
      "name": "python3",
      "display_name": "Python 3"
    },
    "language_info": {
      "name": "python"
    }
  },
  "cells": [
    {
      "cell_type": "markdown",
      "metadata": {
        "id": "view-in-github",
        "colab_type": "text"
      },
      "source": [
        "<a href=\"https://colab.research.google.com/github/sabarishkannaramesh/dlt/blob/main/dltexp5.ipynb\" target=\"_parent\"><img src=\"https://colab.research.google.com/assets/colab-badge.svg\" alt=\"Open In Colab\"/></a>"
      ]
    },
    {
      "cell_type": "code",
      "execution_count": 3,
      "metadata": {
        "colab": {
          "base_uri": "https://localhost:8080/",
          "height": 886
        },
        "id": "e2swWjq6h7C4",
        "outputId": "c9e5df77-d746-404c-8378-5f3d3120fbdf"
      },
      "outputs": [
        {
          "output_type": "stream",
          "name": "stdout",
          "text": [
            "Epoch 1/10\n",
            "\u001b[1m33/33\u001b[0m \u001b[32m━━━━━━━━━━━━━━━━━━━━\u001b[0m\u001b[37m\u001b[0m \u001b[1m5s\u001b[0m 98ms/step - accuracy: 0.3732 - loss: 1.8359 - val_accuracy: 0.4612 - val_loss: 1.6426\n",
            "Epoch 2/10\n",
            "\u001b[1m33/33\u001b[0m \u001b[32m━━━━━━━━━━━━━━━━━━━━\u001b[0m\u001b[37m\u001b[0m \u001b[1m4s\u001b[0m 72ms/step - accuracy: 0.3861 - loss: 1.7318 - val_accuracy: 0.4612 - val_loss: 1.5920\n",
            "Epoch 3/10\n",
            "\u001b[1m33/33\u001b[0m \u001b[32m━━━━━━━━━━━━━━━━━━━━\u001b[0m\u001b[37m\u001b[0m \u001b[1m2s\u001b[0m 68ms/step - accuracy: 0.3991 - loss: 1.7660 - val_accuracy: 0.4612 - val_loss: 1.6084\n",
            "Epoch 4/10\n",
            "\u001b[1m33/33\u001b[0m \u001b[32m━━━━━━━━━━━━━━━━━━━━\u001b[0m\u001b[37m\u001b[0m \u001b[1m2s\u001b[0m 60ms/step - accuracy: 0.4093 - loss: 1.7072 - val_accuracy: 0.4612 - val_loss: 1.5982\n",
            "Epoch 5/10\n",
            "\u001b[1m33/33\u001b[0m \u001b[32m━━━━━━━━━━━━━━━━━━━━\u001b[0m\u001b[37m\u001b[0m \u001b[1m3s\u001b[0m 95ms/step - accuracy: 0.3785 - loss: 1.7469 - val_accuracy: 0.4612 - val_loss: 1.5932\n",
            "Epoch 6/10\n",
            "\u001b[1m33/33\u001b[0m \u001b[32m━━━━━━━━━━━━━━━━━━━━\u001b[0m\u001b[37m\u001b[0m \u001b[1m4s\u001b[0m 60ms/step - accuracy: 0.3974 - loss: 1.7357 - val_accuracy: 0.4612 - val_loss: 1.6051\n",
            "Epoch 7/10\n",
            "\u001b[1m33/33\u001b[0m \u001b[32m━━━━━━━━━━━━━━━━━━━━\u001b[0m\u001b[37m\u001b[0m \u001b[1m2s\u001b[0m 62ms/step - accuracy: 0.4102 - loss: 1.7067 - val_accuracy: 0.4612 - val_loss: 1.6291\n",
            "Epoch 8/10\n",
            "\u001b[1m33/33\u001b[0m \u001b[32m━━━━━━━━━━━━━━━━━━━━\u001b[0m\u001b[37m\u001b[0m \u001b[1m2s\u001b[0m 60ms/step - accuracy: 0.4156 - loss: 1.7093 - val_accuracy: 0.4612 - val_loss: 1.6086\n",
            "Epoch 9/10\n",
            "\u001b[1m33/33\u001b[0m \u001b[32m━━━━━━━━━━━━━━━━━━━━\u001b[0m\u001b[37m\u001b[0m \u001b[1m3s\u001b[0m 74ms/step - accuracy: 0.3738 - loss: 1.7509 - val_accuracy: 0.4612 - val_loss: 1.6031\n",
            "Epoch 10/10\n",
            "\u001b[1m33/33\u001b[0m \u001b[32m━━━━━━━━━━━━━━━━━━━━\u001b[0m\u001b[37m\u001b[0m \u001b[1m3s\u001b[0m 78ms/step - accuracy: 0.3972 - loss: 1.7250 - val_accuracy: 0.4612 - val_loss: 1.5973\n",
            "\u001b[1m9/9\u001b[0m \u001b[32m━━━━━━━━━━━━━━━━━━━━\u001b[0m\u001b[37m\u001b[0m \u001b[1m0s\u001b[0m 16ms/step - accuracy: 0.5007 - loss: 1.5372\n",
            "Test Accuracy: 0.46\n",
            "\u001b[1m1/1\u001b[0m \u001b[32m━━━━━━━━━━━━━━━━━━━━\u001b[0m\u001b[37m\u001b[0m \u001b[1m0s\u001b[0m 105ms/step\n"
          ]
        },
        {
          "output_type": "display_data",
          "data": {
            "text/plain": [
              "<Figure size 640x480 with 1 Axes>"
            ],
            "image/png": "[encoded data removed]"
          },
          "metadata": {}
        },
        {
          "output_type": "stream",
          "name": "stderr",
          "text": [
            "WARNING:absl:You are saving your model as an HDF5 file via `model.save()` or `keras.saving.save_model(model)`. This file format is considered legacy. We recommend using instead the native Keras format, e.g. `model.save('my_model.keras')` or `keras.saving.save_model(model, 'my_model.keras')`. \n"
          ]
        }
      ],
      "source": [
        "import numpy as np\n",
        "import matplotlib.pyplot as plt\n",
        "from sklearn.datasets import fetch_lfw_people\n",
        "from sklearn.model_selection import train_test_split\n",
        "from sklearn.preprocessing import LabelEncoder\n",
        "from tensorflow.keras.utils import to_categorical\n",
        "from tensorflow.keras.models import Sequential\n",
        "from tensorflow.keras.layers import Conv2D, MaxPooling2D, Flatten, Dense, Dropout\n",
        "lfw_data = fetch_lfw_people(min_faces_per_person=70, resize=0.4)\n",
        "X = lfw_data.images\n",
        "y = lfw_data.target\n",
        "target_names = lfw_data.target_names\n",
        "n_classes = len(target_names)\n",
        "\n",
        "X = X.reshape(-1, X.shape[1], X.shape[2], 1) / 255.0\n",
        "y = to_categorical(y, n_classes)\n",
        "\n",
        "X_train, X_test, y_train, y_test = train_test_split(X, y, test_size=0.2, random_state=42)\n",
        "\n",
        "model = Sequential([\n",
        " Conv2D(32, (3, 3), activation='relu', input_shape=X.shape[1:]),\n",
        " MaxPooling2D(2, 2),\n",
        " Conv2D(64, (3, 3), activation='relu'),\n",
        " MaxPooling2D(2, 2),\n",
        " Flatten(),\n",
        " Dense(128, activation='relu'),\n",
        " Dropout(0.5),\n",
        " Dense(n_classes, activation='softmax')\n",
        "])\n",
        "\n",
        "model.compile(optimizer='adam', loss='categorical_crossentropy', metrics=['accuracy'])\n",
        "\n",
        "history = model.fit(X_train, y_train, epochs=10, batch_size=32, validation_data=(X_test, y_test))\n",
        "\n",
        "test_loss, test_accuracy = model.evaluate(X_test, y_test)\n",
        "print(f\"Test Accuracy: {test_accuracy:.2f}\")\n",
        "\n",
        "def predict_and_display(index):\n",
        " sample = X_test[index].reshape(1, X.shape[1], X.shape[2], 1)\n",
        " prediction = model.predict(sample)\n",
        " predicted_label = target_names[np.argmax(prediction)]\n",
        " actual_label = target_names[np.argmax(y_test[index])]\n",
        " plt.imshow(X_test[index].reshape(X.shape[1], X.shape[2]), cmap='gray')\n",
        " plt.title(f\"Predicted: {predicted_label}\\nActual: {actual_label}\")\n",
        " plt.axis('off')\n",
        " plt.show()\n",
        "\n",
        "predict_and_display(7)\n",
        "\n",
        "model.save(\"lfw_face_recognition_cnn.h5\")"
      ]
    }
  ]
}